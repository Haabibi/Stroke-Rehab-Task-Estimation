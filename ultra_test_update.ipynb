{
  "nbformat": 4,
  "nbformat_minor": 0,
  "metadata": {
    "colab": {
      "name": "ultra_test.ipynb",
      "provenance": [],
      "collapsed_sections": [],
      "mount_file_id": "10PTdJvSlrevz43ZTKN6C2mN_IBWrkYL8",
      "authorship_tag": "ABX9TyNSgG8CKXzQqzcrnpClGfSe",
      "include_colab_link": true
    },
    "kernelspec": {
      "name": "python3",
      "display_name": "Python 3"
    },
    "accelerator": "GPU"
  },
  "cells": [
    {
      "cell_type": "markdown",
      "metadata": {
        "id": "view-in-github",
        "colab_type": "text"
      },
      "source": [
        "<a href=\"https://colab.research.google.com/github/Haabibi/Stroke-Rehab-Task-Estimation/blob/master/ultra_test_update.ipynb\" target=\"_parent\"><img src=\"https://colab.research.google.com/assets/colab-badge.svg\" alt=\"Open In Colab\"/></a>"
      ]
    },
    {
      "cell_type": "code",
      "metadata": {
        "id": "JBtx3Ji5_Vt_",
        "colab_type": "code",
        "outputId": "db862baa-6c8e-4ea7-fec1-8bdbf85647f9",
        "colab": {
          "base_uri": "https://localhost:8080/",
          "height": 136
        }
      },
      "source": [
        "!git clone https://github.com/ultralytics/yolov3  # clone"
      ],
      "execution_count": 1,
      "outputs": [
        {
          "output_type": "stream",
          "text": [
            "Cloning into 'yolov3'...\n",
            "remote: Enumerating objects: 20, done.\u001b[K\n",
            "remote: Counting objects: 100% (20/20), done.\u001b[K\n",
            "remote: Compressing objects: 100% (14/14), done.\u001b[K\n",
            "remote: Total 8854 (delta 10), reused 15 (delta 6), pack-reused 8834\u001b[K\n",
            "Receiving objects: 100% (8854/8854), 6.98 MiB | 12.48 MiB/s, done.\n",
            "Resolving deltas: 100% (6108/6108), done.\n"
          ],
          "name": "stdout"
        }
      ]
    },
    {
      "cell_type": "code",
      "metadata": {
        "id": "m7jbjSuLgQIX",
        "colab_type": "code",
        "outputId": "72e4e372-5392-4540-c656-411994a0541e",
        "colab": {
          "base_uri": "https://localhost:8080/",
          "height": 650
        }
      },
      "source": [
        "%cd /content/yolov3\n",
        "\n",
        "!pip install -U -r requirements.txt"
      ],
      "execution_count": 2,
      "outputs": [
        {
          "output_type": "stream",
          "text": [
            "/content/yolov3\n",
            "Requirement already up-to-date: numpy in /usr/local/lib/python3.6/dist-packages (from -r requirements.txt (line 2)) (1.18.2)\n",
            "Collecting opencv-python>=4.1\n",
            "\u001b[?25l  Downloading https://files.pythonhosted.org/packages/72/c2/e9cf54ae5b1102020ef895866a67cb2e1aef72f16dd1fde5b5fb1495ad9c/opencv_python-4.2.0.34-cp36-cp36m-manylinux1_x86_64.whl (28.2MB)\n",
            "\u001b[K     |████████████████████████████████| 28.2MB 111kB/s \n",
            "\u001b[?25hRequirement already up-to-date: torch>=1.4 in /usr/local/lib/python3.6/dist-packages (from -r requirements.txt (line 4)) (1.4.0)\n",
            "Requirement already up-to-date: matplotlib in /usr/local/lib/python3.6/dist-packages (from -r requirements.txt (line 5)) (3.2.1)\n",
            "Requirement already up-to-date: pycocotools in /usr/local/lib/python3.6/dist-packages (from -r requirements.txt (line 6)) (2.0.0)\n",
            "Collecting tqdm\n",
            "\u001b[?25l  Downloading https://files.pythonhosted.org/packages/4a/1c/6359be64e8301b84160f6f6f7936bbfaaa5e9a4eab6cbc681db07600b949/tqdm-4.45.0-py2.py3-none-any.whl (60kB)\n",
            "\u001b[K     |████████████████████████████████| 61kB 9.2MB/s \n",
            "\u001b[?25hCollecting pillow\n",
            "\u001b[?25l  Downloading https://files.pythonhosted.org/packages/ba/90/8a24e6220cfcf6a3a0162535d5b926e774117e384ff921908e07e4c92bda/Pillow-7.1.1-cp36-cp36m-manylinux1_x86_64.whl (2.1MB)\n",
            "\u001b[K     |████████████████████████████████| 2.1MB 30.9MB/s \n",
            "\u001b[?25hRequirement already satisfied, skipping upgrade: pyparsing!=2.0.4,!=2.1.2,!=2.1.6,>=2.0.1 in /usr/local/lib/python3.6/dist-packages (from matplotlib->-r requirements.txt (line 5)) (2.4.7)\n",
            "Requirement already satisfied, skipping upgrade: kiwisolver>=1.0.1 in /usr/local/lib/python3.6/dist-packages (from matplotlib->-r requirements.txt (line 5)) (1.2.0)\n",
            "Requirement already satisfied, skipping upgrade: cycler>=0.10 in /usr/local/lib/python3.6/dist-packages (from matplotlib->-r requirements.txt (line 5)) (0.10.0)\n",
            "Requirement already satisfied, skipping upgrade: python-dateutil>=2.1 in /usr/local/lib/python3.6/dist-packages (from matplotlib->-r requirements.txt (line 5)) (2.8.1)\n",
            "Requirement already satisfied, skipping upgrade: six in /usr/local/lib/python3.6/dist-packages (from cycler>=0.10->matplotlib->-r requirements.txt (line 5)) (1.12.0)\n",
            "\u001b[31mERROR: albumentations 0.1.12 has requirement imgaug<0.2.7,>=0.2.5, but you'll have imgaug 0.2.9 which is incompatible.\u001b[0m\n",
            "Installing collected packages: opencv-python, tqdm, pillow\n",
            "  Found existing installation: opencv-python 4.1.2.30\n",
            "    Uninstalling opencv-python-4.1.2.30:\n",
            "      Successfully uninstalled opencv-python-4.1.2.30\n",
            "  Found existing installation: tqdm 4.38.0\n",
            "    Uninstalling tqdm-4.38.0:\n",
            "      Successfully uninstalled tqdm-4.38.0\n",
            "  Found existing installation: Pillow 7.0.0\n",
            "    Uninstalling Pillow-7.0.0:\n",
            "      Successfully uninstalled Pillow-7.0.0\n",
            "Successfully installed opencv-python-4.2.0.34 pillow-7.1.1 tqdm-4.45.0\n"
          ],
          "name": "stdout"
        },
        {
          "output_type": "display_data",
          "data": {
            "application/vnd.colab-display-data+json": {
              "pip_warning": {
                "packages": [
                  "PIL",
                  "tqdm"
                ]
              }
            }
          },
          "metadata": {
            "tags": []
          }
        }
      ]
    },
    {
      "cell_type": "code",
      "metadata": {
        "id": "bbk6HctBgW24",
        "colab_type": "code",
        "outputId": "1df2e66d-45f5-4052-a9aa-6acbaeb9c0c9",
        "colab": {
          "base_uri": "https://localhost:8080/",
          "height": 34
        }
      },
      "source": [
        "import time\n",
        "import glob\n",
        "import torch\n",
        "import os\n",
        "\n",
        "from IPython.display import Image, clear_output \n",
        "print('PyTorch %s %s' % (torch.__version__, torch.cuda.get_device_properties(0) if torch.cuda.is_available() else 'CPU'))"
      ],
      "execution_count": 3,
      "outputs": [
        {
          "output_type": "stream",
          "text": [
            "PyTorch 1.4.0 _CudaDeviceProperties(name='Tesla P100-PCIE-16GB', major=6, minor=0, total_memory=16280MB, multi_processor_count=56)\n"
          ],
          "name": "stdout"
        }
      ]
    },
    {
      "cell_type": "code",
      "metadata": {
        "id": "xiFOzL79gjUP",
        "colab_type": "code",
        "outputId": "888fa7e6-c28e-4085-84ce-6860ba7b0416",
        "colab": {
          "base_uri": "https://localhost:8080/",
          "height": 255
        }
      },
      "source": [
        "!bash weights/download_yolov3_weights.sh"
      ],
      "execution_count": 4,
      "outputs": [
        {
          "output_type": "stream",
          "text": [
            "  % Total    % Received % Xferd  Average Speed   Time    Time     Time  Current\n",
            "                                 Dload  Upload   Total   Spent    Left  Speed\n",
            "100   408    0   408    0     0    819      0 --:--:-- --:--:-- --:--:--   817\n",
            "  0     0    0     0    0     0      0      0 --:--:-- --:--:-- --:--:--     0\n",
            "  0     0    0     0    0     0      0      0 --:--:-- --:--:-- --:--:--     0\n",
            "100  236M    0  236M    0     0  79.3M      0 --:--:--  0:00:02 --:--:--  122M\n",
            "Downloading https://drive.google.com/uc?export=download&id=1SHNFyoe5Ni8DajDNEqgB2oVKBb_NoEad as weights/yolov3.pt... Done (3.2s)\n",
            "  % Total    % Received % Xferd  Average Speed   Time    Time     Time  Current\n",
            "                                 Dload  Upload   Total   Spent    Left  Speed\n",
            "100   408    0   408    0     0   1906      0 --:--:-- --:--:-- --:--:--  1915\n",
            "  0     0    0     0    0     0      0      0 --:--:-- --:--:-- --:--:--     0\n",
            "  0     0    0     0    0     0      0      0 --:--:-- --:--:-- --:--:--     0\n",
            "100  240M    0  240M    0     0  56.2M      0 --:--:--  0:00:04 --:--:-- 70.6M\n",
            "Downloading https://drive.google.com/uc?export=download&id=1f6Ovy3BSq2wYq4UfvFUpxJFNDFfrIDcR as weights/yolov3-spp.pt... Done (4.5s)\n"
          ],
          "name": "stdout"
        }
      ]
    },
    {
      "cell_type": "code",
      "metadata": {
        "id": "q3-KkkQWgoa9",
        "colab_type": "code",
        "outputId": "cbc0635a-a882-48bd-acaa-6ae9bde5c109",
        "colab": {
          "base_uri": "https://localhost:8080/",
          "height": 1000
        }
      },
      "source": [
        "!python3 detect.py --source /content/drive/My\\ Drive/real_survey_imgs --output /content/drive/My\\ Drive/real_survey_object_detection_mapping"
      ],
      "execution_count": 36,
      "outputs": [
        {
          "output_type": "stream",
          "text": [
            "Namespace(agnostic_nms=False, augment=False, cfg='cfg/yolov3-spp.cfg', classes=None, conf_thres=0.3, device='', fourcc='mp4v', half=False, img_size=512, iou_thres=0.6, mapfile='/content/drive/My Drive/rehab/mapping.csv', names='data/coco.names', output='/content/drive/My Drive/real_survey_object_detection_mapping', save_txt=False, source='/content/drive/My Drive/real_survey_imgs', view_img=False, weights='weights/yolov3-spp-ultralytics.pt')\n",
            "Using CUDA device0 _CudaDeviceProperties(name='Tesla P100-PCIE-16GB', total_memory=16280MB)\n",
            "\n",
            "Model Summary: 225 layers, 6.29987e+07 parameters, 6.29987e+07 gradients\n",
            "image 1/60 /content/drive/My Drive/real_survey_imgs/Image1.jpg: THIS IS LABEL:  toothbrush 0.30\n",
            "THIS IS LABEL:  chair 0.20\n",
            "THIS IS FUNCTIONAL TASK:   brushing\n",
            "image 2/60 /content/drive/My Drive/real_survey_imgs/Image10.jpg: THIS IS LABEL:  chair 0.30\n",
            "THIS IS LABEL:  apple 0.23\n",
            "THIS IS FUNCTIONAL TASK:   eating\n",
            "image 3/60 /content/drive/My Drive/real_survey_imgs/Image11.jpg: THIS IS NONE\n",
            "image 4/60 /content/drive/My Drive/real_survey_imgs/Image12.jpg: THIS IS NONE\n",
            "image 5/60 /content/drive/My Drive/real_survey_imgs/Image13.jpg: THIS IS NONE\n",
            "image 6/60 /content/drive/My Drive/real_survey_imgs/Image14.jpg: THIS IS LABEL:  bowl 0.91\n",
            "THIS IS LABEL:  laptop 0.43\n",
            "THIS IS LABEL:  chair 0.33\n",
            "THIS IS FUNCTIONAL TASK:   reading\n",
            "image 7/60 /content/drive/My Drive/real_survey_imgs/Image15.jpg: THIS IS LABEL:  bowl 0.82\n",
            "THIS IS LABEL:  chair 0.69\n",
            "THIS IS LABEL:  laptop 0.44\n",
            "THIS IS FUNCTIONAL TASK:   reading\n",
            "image 8/60 /content/drive/My Drive/real_survey_imgs/Image16.jpg: THIS IS LABEL:  spoon 0.83\n",
            "THIS IS LABEL:  chair 0.30\n",
            "THIS IS FUNCTIONAL TASK:   mixing\n",
            "image 9/60 /content/drive/My Drive/real_survey_imgs/Image17.jpg: THIS IS LABEL:  scissors 0.92\n",
            "THIS IS LABEL:  spoon 0.82\n",
            "THIS IS FUNCTIONAL TASK:   cutting\n",
            "image 10/60 /content/drive/My Drive/real_survey_imgs/Image18.jpg: THIS IS LABEL:  bottle 0.93\n",
            "THIS IS LABEL:  scissors 0.90\n",
            "THIS IS LABEL:  chair 0.57\n",
            "THIS IS FUNCTIONAL TASK:   cutting\n",
            "image 11/60 /content/drive/My Drive/real_survey_imgs/Image19.jpg: THIS IS LABEL:  bottle 0.92\n",
            "THIS IS LABEL:  bottle 0.82\n",
            "THIS IS LABEL:  chair 0.65\n",
            "THIS IS LABEL:  dining table 0.39\n",
            "THIS IS FUNCTIONAL TASK:   drinking\n",
            "image 12/60 /content/drive/My Drive/real_survey_imgs/Image2.jpg: THIS IS LABEL:  mouse 0.71\n",
            "THIS IS LABEL:  apple 0.52\n",
            "THIS IS LABEL:  laptop 0.46\n",
            "THIS IS LABEL:  chair 0.39\n",
            "THIS IS FUNCTIONAL TASK:   eating\n",
            "image 13/60 /content/drive/My Drive/real_survey_imgs/Image20.jpg: THIS IS LABEL:  bottle 0.78\n",
            "THIS IS LABEL:  chair 0.38\n",
            "THIS IS LABEL:  sink 0.16\n",
            "THIS IS FUNCTIONAL TASK:   drinking\n",
            "image 14/60 /content/drive/My Drive/real_survey_imgs/Image21.jpg: THIS IS LABEL:  chair 0.49\n",
            "THIS IS NONE\n",
            "image 15/60 /content/drive/My Drive/real_survey_imgs/Image22.jpg: THIS IS LABEL:  apple 0.44\n",
            "THIS IS LABEL:  chair 0.26\n",
            "THIS IS FUNCTIONAL TASK:   eating\n",
            "image 16/60 /content/drive/My Drive/real_survey_imgs/Image23.jpg: THIS IS LABEL:  apple 0.45\n",
            "THIS IS LABEL:  chair 0.33\n",
            "THIS IS FUNCTIONAL TASK:   eating\n",
            "image 17/60 /content/drive/My Drive/real_survey_imgs/Image24.jpg: THIS IS LABEL:  laptop 0.51\n",
            "THIS IS LABEL:  apple 0.48\n",
            "THIS IS FUNCTIONAL TASK:   eating\n",
            "image 18/60 /content/drive/My Drive/real_survey_imgs/Image25.jpg: THIS IS LABEL:  cup 0.92\n",
            "THIS IS LABEL:  chair 0.37\n",
            "THIS IS LABEL:  handbag 0.28\n",
            "THIS IS LABEL:  laptop 0.27\n",
            "THIS IS FUNCTIONAL TASK:   cleaning\n",
            "image 19/60 /content/drive/My Drive/real_survey_imgs/Image26.jpg: THIS IS LABEL:  cup 0.91\n",
            "THIS IS LABEL:  toothbrush 0.55\n",
            "THIS IS LABEL:  chair 0.44\n",
            "THIS IS FUNCTIONAL TASK:   brushing\n",
            "image 20/60 /content/drive/My Drive/real_survey_imgs/Image27.jpg: THIS IS LABEL:  laptop 0.44\n",
            "THIS IS LABEL:  remote 0.43\n",
            "THIS IS FUNCTIONAL TASK:   reading\n",
            "image 21/60 /content/drive/My Drive/real_survey_imgs/Image28.jpg: THIS IS LABEL:  cup 0.92\n",
            "THIS IS LABEL:  toothbrush 0.51\n",
            "THIS IS LABEL:  chair 0.50\n",
            "THIS IS LABEL:  laptop 0.41\n",
            "THIS IS FUNCTIONAL TASK:   brushing\n",
            "image 22/60 /content/drive/My Drive/real_survey_imgs/Image29.jpg: THIS IS LABEL:  bowl 0.90\n",
            "THIS IS LABEL:  spoon 0.62\n",
            "THIS IS LABEL:  chair 0.31\n",
            "THIS IS FUNCTIONAL TASK:   mixing\n",
            "image 23/60 /content/drive/My Drive/real_survey_imgs/Image3.jpg: THIS IS LABEL:  apple 0.58\n",
            "THIS IS LABEL:  laptop 0.47\n",
            "THIS IS FUNCTIONAL TASK:   eating\n",
            "image 24/60 /content/drive/My Drive/real_survey_imgs/Image30.jpg: THIS IS LABEL:  bottle 0.89\n",
            "THIS IS LABEL:  bowl 0.83\n",
            "THIS IS LABEL:  dining table 0.42\n",
            "THIS IS LABEL:  chair 0.31\n",
            "THIS IS FUNCTIONAL TASK:   pouring\n",
            "image 25/60 /content/drive/My Drive/real_survey_imgs/Image31.jpg: THIS IS LABEL:  bottle 0.92\n",
            "THIS IS LABEL:  spoon 0.67\n",
            "THIS IS LABEL:  chair 0.29\n",
            "THIS IS LABEL:  bed 0.26\n",
            "THIS IS FUNCTIONAL TASK:   mixing\n",
            "image 26/60 /content/drive/My Drive/real_survey_imgs/Image32.jpg: THIS IS LABEL:  bottle 0.92\n",
            "THIS IS LABEL:  bowl 0.85\n",
            "THIS IS LABEL:  spoon 0.78\n",
            "THIS IS LABEL:  chair 0.37\n",
            "THIS IS LABEL:  laptop 0.22\n",
            "THIS IS FUNCTIONAL TASK:   mixing\n",
            "image 27/60 /content/drive/My Drive/real_survey_imgs/Image33.jpg: THIS IS LABEL:  scissors 0.91\n",
            "THIS IS LABEL:  chair 0.55\n",
            "THIS IS LABEL:  laptop 0.54\n",
            "THIS IS LABEL:  laptop 0.53\n",
            "THIS IS LABEL:  bed 0.29\n",
            "THIS IS FUNCTIONAL TASK:   reading\n",
            "image 28/60 /content/drive/My Drive/real_survey_imgs/Image34.jpg: THIS IS LABEL:  laptop 0.70\n",
            "THIS IS LABEL:  chair 0.49\n",
            "THIS IS LABEL:  bed 0.46\n",
            "THIS IS LABEL:  laptop 0.36\n",
            "THIS IS LABEL:  bottle 0.33\n",
            "THIS IS FUNCTIONAL TASK:   reading\n",
            "image 29/60 /content/drive/My Drive/real_survey_imgs/Image35.jpg: THIS IS LABEL:  scissors 0.53\n",
            "THIS IS LABEL:  chair 0.36\n",
            "THIS IS LABEL:  bottle 0.24\n",
            "THIS IS FUNCTIONAL TASK:   cutting\n",
            "image 30/60 /content/drive/My Drive/real_survey_imgs/Image36.jpg: THIS IS LABEL:  scissors 0.83\n",
            "THIS IS LABEL:  laptop 0.77\n",
            "THIS IS LABEL:  chair 0.64\n",
            "THIS IS FUNCTIONAL TASK:   cutting\n",
            "image 31/60 /content/drive/My Drive/real_survey_imgs/Image37.jpg: THIS IS LABEL:  apple 0.55\n",
            "THIS IS LABEL:  chair 0.45\n",
            "THIS IS LABEL:  knife 0.21\n",
            "THIS IS FUNCTIONAL TASK:   eating\n",
            "image 32/60 /content/drive/My Drive/real_survey_imgs/Image38.jpg: THIS IS LABEL:  apple 0.52\n",
            "THIS IS LABEL:  chair 0.50\n",
            "THIS IS FUNCTIONAL TASK:   eating\n",
            "image 33/60 /content/drive/My Drive/real_survey_imgs/Image39.jpg: THIS IS LABEL:  apple 0.50\n",
            "THIS IS LABEL:  knife 0.39\n",
            "THIS IS LABEL:  carrot 0.30\n",
            "THIS IS FUNCTIONAL TASK:   eating\n",
            "image 34/60 /content/drive/My Drive/real_survey_imgs/Image4.jpg: THIS IS LABEL:  cup 0.92\n",
            "THIS IS LABEL:  chair 0.43\n",
            "THIS IS FUNCTIONAL TASK:   drinking\n",
            "image 35/60 /content/drive/My Drive/real_survey_imgs/Image40.jpg: THIS IS LABEL:  chair 0.74\n",
            "THIS IS LABEL:  knife 0.45\n",
            "THIS IS FUNCTIONAL TASK:   cutting\n",
            "image 36/60 /content/drive/My Drive/real_survey_imgs/Image41.jpg: THIS IS LABEL:  chair 0.83\n",
            "THIS IS LABEL:  laptop 0.79\n",
            "THIS IS LABEL:  scissors 0.75\n",
            "THIS IS FUNCTIONAL TASK:   cutting\n",
            "image 37/60 /content/drive/My Drive/real_survey_imgs/Image42.jpg: THIS IS LABEL:  bowl 0.93\n",
            "THIS IS LABEL:  chair 0.86\n",
            "THIS IS LABEL:  laptop 0.85\n",
            "THIS IS LABEL:  dining table 0.49\n",
            "THIS IS FUNCTIONAL TASK:   reading\n",
            "image 38/60 /content/drive/My Drive/real_survey_imgs/Image43.jpg: THIS IS LABEL:  chair 0.37\n",
            "THIS IS LABEL:  handbag 0.29\n",
            "THIS IS LABEL:  chair 0.24\n",
            "THIS IS FUNCTIONAL TASK:   cleaning\n",
            "image 39/60 /content/drive/My Drive/real_survey_imgs/Image44.jpg: THIS IS LABEL:  chair 0.88\n",
            "THIS IS LABEL:  laptop 0.73\n",
            "THIS IS LABEL:  handbag 0.62\n",
            "THIS IS LABEL:  apple 0.46\n",
            "THIS IS FUNCTIONAL TASK:   cleaning\n",
            "image 40/60 /content/drive/My Drive/real_survey_imgs/Image45.jpg: THIS IS LABEL:  bottle 0.92\n",
            "THIS IS LABEL:  bottle 0.54\n",
            "THIS IS LABEL:  dining table 0.36\n",
            "THIS IS LABEL:  knife 0.34\n",
            "THIS IS LABEL:  knife 0.29\n",
            "THIS IS FUNCTIONAL TASK:   cutting\n",
            "image 41/60 /content/drive/My Drive/real_survey_imgs/Image46.jpg: THIS IS LABEL:  chair 0.88\n",
            "THIS IS LABEL:  apple 0.53\n",
            "THIS IS LABEL:  laptop 0.39\n",
            "THIS IS FUNCTIONAL TASK:   eating\n",
            "image 42/60 /content/drive/My Drive/real_survey_imgs/Image47.jpg: THIS IS LABEL:  bottle 0.88\n",
            "THIS IS LABEL:  chair 0.66\n",
            "THIS IS LABEL:  apple 0.41\n",
            "THIS IS LABEL:  dining table 0.37\n",
            "THIS IS FUNCTIONAL TASK:   eating\n",
            "image 43/60 /content/drive/My Drive/real_survey_imgs/Image48.jpg: THIS IS LABEL:  bottle 0.90\n",
            "THIS IS LABEL:  bottle 0.66\n",
            "THIS IS LABEL:  chair 0.59\n",
            "THIS IS LABEL:  apple 0.51\n",
            "THIS IS LABEL:  dining table 0.36\n",
            "THIS IS FUNCTIONAL TASK:   eating\n",
            "image 44/60 /content/drive/My Drive/real_survey_imgs/Image49.jpg: THIS IS LABEL:  cup 0.94\n",
            "THIS IS LABEL:  chair 0.81\n",
            "THIS IS FUNCTIONAL TASK:   drinking\n",
            "image 45/60 /content/drive/My Drive/real_survey_imgs/Image5.jpg: THIS IS LABEL:  cup 0.92\n",
            "THIS IS LABEL:  chair 0.42\n",
            "THIS IS LABEL:  skis 0.20\n",
            "THIS IS FUNCTIONAL TASK:   cutting\n",
            "image 46/60 /content/drive/My Drive/real_survey_imgs/Image50.jpg: THIS IS LABEL:  chair 0.83\n",
            "THIS IS LABEL:  carrot 0.58\n",
            "THIS IS LABEL:  book 0.42\n",
            "THIS IS FUNCTIONAL TASK:   cleaning\n",
            "image 47/60 /content/drive/My Drive/real_survey_imgs/Image51.jpg: THIS IS LABEL:  cup 0.89\n",
            "THIS IS LABEL:  spoon 0.87\n",
            "THIS IS LABEL:  chair 0.81\n",
            "THIS IS LABEL:  dining table 0.39\n",
            "THIS IS LABEL:  book 0.27\n",
            "THIS IS FUNCTIONAL TASK:   mixing\n",
            "image 48/60 /content/drive/My Drive/real_survey_imgs/Image52.jpg: THIS IS LABEL:  chair 0.86\n",
            "THIS IS LABEL:  cup 0.86\n",
            "THIS IS LABEL:  dining table 0.35\n",
            "THIS IS LABEL:  knife 0.34\n",
            "THIS IS LABEL:  bottle 0.25\n",
            "THIS IS FUNCTIONAL TASK:   drinking\n",
            "image 49/60 /content/drive/My Drive/real_survey_imgs/Image53.jpg: THIS IS LABEL:  spoon 0.86\n",
            "THIS IS LABEL:  chair 0.84\n",
            "THIS IS LABEL:  dining table 0.47\n",
            "THIS IS LABEL:  cup 0.41\n",
            "THIS IS FUNCTIONAL TASK:   mixing\n",
            "image 50/60 /content/drive/My Drive/real_survey_imgs/Image54.jpg: THIS IS LABEL:  bottle 0.75\n",
            "THIS IS LABEL:  chair 0.71\n",
            "THIS IS FUNCTIONAL TASK:   drinking\n",
            "image 51/60 /content/drive/My Drive/real_survey_imgs/Image55.jpg: THIS IS LABEL:  cup 0.90\n",
            "THIS IS LABEL:  bottle 0.83\n",
            "THIS IS LABEL:  chair 0.71\n",
            "THIS IS LABEL:  spoon 0.57\n",
            "THIS IS LABEL:  cup 0.41\n",
            "THIS IS FUNCTIONAL TASK:   drinking\n",
            "image 52/60 /content/drive/My Drive/real_survey_imgs/Image56.jpg: THIS IS LABEL:  chair 0.50\n",
            "THIS IS LABEL:  spoon 0.36\n",
            "THIS IS LABEL:  spoon 0.28\n",
            "THIS IS LABEL:  knife 0.26\n",
            "THIS IS FUNCTIONAL TASK:   mixing\n",
            "image 53/60 /content/drive/My Drive/real_survey_imgs/Image57.jpg: THIS IS LABEL:  apple 0.44\n",
            "THIS IS LABEL:  bowl 0.41\n",
            "THIS IS LABEL:  apple 0.39\n",
            "THIS IS LABEL:  laptop 0.36\n",
            "THIS IS FUNCTIONAL TASK:   eating\n",
            "image 54/60 /content/drive/My Drive/real_survey_imgs/Image58.jpg: THIS IS LABEL:  bottle 0.93\n",
            "THIS IS LABEL:  scissors 0.90\n",
            "THIS IS LABEL:  chair 0.61\n",
            "THIS IS FUNCTIONAL TASK:   cutting\n",
            "image 55/60 /content/drive/My Drive/real_survey_imgs/Image59.jpg: THIS IS LABEL:  scissors 0.90\n",
            "THIS IS LABEL:  bowl 0.88\n",
            "THIS IS LABEL:  chair 0.62\n",
            "THIS IS LABEL:  bottle 0.55\n",
            "THIS IS FUNCTIONAL TASK:   cutting\n",
            "image 56/60 /content/drive/My Drive/real_survey_imgs/Image6.jpg: THIS IS LABEL:  skis 0.40\n",
            "THIS IS FUNCTIONAL TASK:   cutting\n",
            "image 57/60 /content/drive/My Drive/real_survey_imgs/Image60.jpg: THIS IS LABEL:  scissors 0.88\n",
            "THIS IS LABEL:  bowl 0.83\n",
            "THIS IS LABEL:  chair 0.44\n",
            "THIS IS FUNCTIONAL TASK:   cutting\n",
            "image 58/60 /content/drive/My Drive/real_survey_imgs/Image7.jpg: THIS IS LABEL:  handbag 0.68\n",
            "THIS IS LABEL:  chair 0.64\n",
            "THIS IS FUNCTIONAL TASK:   cleaning\n",
            "image 59/60 /content/drive/My Drive/real_survey_imgs/Image8.jpg: THIS IS LABEL:  chair 0.72\n",
            "THIS IS LABEL:  handbag 0.64\n",
            "THIS IS FUNCTIONAL TASK:   cleaning\n",
            "image 60/60 /content/drive/My Drive/real_survey_imgs/Image9.jpg: THIS IS LABEL:  chair 0.45\n",
            "THIS IS LABEL:  frisbee 0.27\n",
            "THIS IS FUNCTIONAL TASK:   eating\n",
            "Results saved to /content/yolov3//content/drive/My Drive/real_survey_object_detection_mapping\n",
            "Done. (1.690s)\n"
          ],
          "name": "stdout"
        }
      ]
    },
    {
      "cell_type": "code",
      "metadata": {
        "id": "JqWGjbQToNsL",
        "colab_type": "code",
        "colab": {
          "base_uri": "https://localhost:8080/",
          "height": 394
        },
        "outputId": "5593a189-bfd7-48e9-9742-390a60edf18e"
      },
      "source": [
        "!python3 detect.py"
      ],
      "execution_count": 7,
      "outputs": [
        {
          "output_type": "stream",
          "text": [
            "Namespace(agnostic_nms=False, augment=False, cfg='cfg/yolov3-spp.cfg', classes=None, conf_thres=0.3, device='', fourcc='mp4v', half=False, img_size=512, iou_thres=0.6, names='data/coco.names', output='output', save_txt=False, source='data/samples', view_img=False, weights='weights/yolov3-spp-ultralytics.pt')\n",
            "Using CUDA device0 _CudaDeviceProperties(name='Tesla P100-PCIE-16GB', total_memory=16280MB)\n",
            "\n",
            "Model Summary: 225 layers, 6.29987e+07 parameters, 6.29987e+07 gradients\n",
            "80\n",
            "image 1/2 data/samples/bus.jpg: torch.Size([1, 12096, 85])\n",
            "5\n",
            "[tensor([[2.52648e+01, 1.90108e+02, 1.17298e+02, 4.28925e+02, 9.16294e-01, 0.00000e+00],\n",
            "        [1.06951e+02, 1.94197e+02, 1.63607e+02, 4.06990e+02, 8.64547e-01, 0.00000e+00],\n",
            "        [3.16754e+02, 1.83650e+02, 3.84416e+02, 4.19186e+02, 8.02963e-01, 0.00000e+00],\n",
            "        [8.15114e+00, 1.07480e+02, 3.78607e+02, 3.49724e+02, 6.46453e-01, 5.00000e+00],\n",
            "        [1.35586e+02, 2.28486e+02, 1.42631e+02, 2.47906e+02, 3.16847e-01, 2.70000e+01]], device='cuda:0')]\n",
            "512x384 3 persons, 1 buss, 1 ties, Done. (0.021s)\n",
            "image 2/2 data/samples/zidane.jpg: torch.Size([1, 10080, 85])\n",
            "3\n",
            "[tensor([[ 53.41182,  93.68417, 433.11264, 300.77301,   0.87548,   0.00000],\n",
            "        [297.92438,  33.18758, 453.03003, 300.75186,   0.85372,   0.00000],\n",
            "        [172.67583, 190.04063, 209.32031, 302.35034,   0.60773,  27.00000]], device='cuda:0')]\n",
            "320x512 2 persons, 1 ties, Done. (0.019s)\n",
            "Results saved to /content/yolov3/output\n",
            "Done. (0.164s)\n"
          ],
          "name": "stdout"
        }
      ]
    },
    {
      "cell_type": "code",
      "metadata": {
        "id": "4ZMipPvkwrOY",
        "colab_type": "code",
        "colab": {
          "base_uri": "https://localhost:8080/",
          "height": 462
        },
        "outputId": "a0549aa2-b1c4-472e-9812-16fe89666ef8"
      },
      "source": [
        "!python3 detect.py"
      ],
      "execution_count": 25,
      "outputs": [
        {
          "output_type": "stream",
          "text": [
            "Namespace(agnostic_nms=False, augment=False, cfg='cfg/yolov3-spp.cfg', classes=None, conf_thres=0.3, device='', fourcc='mp4v', half=False, img_size=512, iou_thres=0.6, mapfile='/content/drive/My Drive/rehab/mapping.csv', names='data/coco.names', output='output', save_txt=False, source='data/samples', view_img=False, weights='weights/yolov3-spp-ultralytics.pt')\n",
            "Using CUDA device0 _CudaDeviceProperties(name='Tesla P100-PCIE-16GB', total_memory=16280MB)\n",
            "\n",
            "{'object': [' brushing', ' cleaning', ' cutting', ' drinking', ' eating', ' mixing', ' none', ' pouring', ' reading', ' squeezing', ' writing'], 'person': [0.0, 0.0, 0.0, 0.0, 0.0, 0.0, 0.0, 0.0, 0.0, 0.0, 0.0], 'bicycle': [0.0, 0.0, 0.0, 0.0, 0.0, 0.0, 0.0, 0.0, 0.0, 0.0, 0.0], 'car': [0.0, 0.0, 0.0, 0.0, 0.0, 0.0, 0.0, 0.0, 0.0, 0.0, 0.0], 'motorcycle': [0.0, 0.0, 0.0, 0.0, 0.0, 0.0, 0.0, 0.0, 0.0, 0.0, 0.0], 'airplane': [0.0, 0.0, 0.0, 0.0, 0.0, 0.0, 0.0, 0.0, 0.0, 0.0, 0.0], 'bus': [0.0, 0.0, 0.0, 0.0, 0.0, 0.0, 0.0, 0.0, 0.0, 0.0, 0.0], 'train': [0.0, 0.0, 0.0, 0.0, 0.0, 0.0, 0.0, 0.0, 0.0, 0.0, 0.0], 'truck': [0.0, 0.0, 0.0, 0.0, 0.0, 0.0, 0.0, 0.0, 0.0, 0.0, 0.0], 'boat': [0.0, 0.0, 0.0, 0.0, 0.0, 0.0, 0.0, 0.0, 0.0, 0.0, 0.0], 'traffic light': [0.0, 0.0, 0.0, 0.0, 0.0, 0.0, 0.0, 0.0, 0.0, 0.0, 0.0], 'fire hydrant': [0.0, 0.0, 0.0, 0.0, 0.0, 0.0, 0.0, 0.0, 0.0, 0.0, 0.0], 'street sign': [0.0, 0.0, 0.0, 0.0, 0.0, 0.0, 0.0, 0.0, 0.0, 0.0, 0.0], 'stop sign': [0.0, 0.0, 0.0, 0.0, 0.0, 0.0, 0.0, 0.0, 0.0, 0.0, 0.0], 'parking meter': [0.0, 0.0, 0.0, 0.0, 0.0, 0.0, 0.0, 0.0, 0.0, 0.0, 0.0], 'bench': [0.0, 0.0, 0.0, 0.0, 0.0, 0.0, 0.0, 0.0, 0.0, 0.0, 0.0], 'bird': [0.0, 0.0, 0.0, 0.0, 0.0, 0.0, 0.0, 0.0, 0.0, 0.0, 0.0], 'cat': [0.0, 0.0, 0.0, 0.0, 0.0, 0.0, 0.0, 0.0, 0.0, 0.0, 0.0], 'dog': [0.0, 0.0, 0.0, 0.0, 0.0, 0.0, 0.0, 0.0, 0.0, 0.0, 0.0], 'horse': [0.0, 0.0, 0.0, 0.0, 0.0, 0.0, 0.0, 0.0, 0.0, 0.0, 0.0], 'sheep': [0.0, 0.0, 0.0, 0.0, 0.0, 0.0, 0.0, 0.0, 0.0, 0.0, 0.0], 'cow': [0.0, 0.0, 0.0, 0.0, 0.0, 0.0, 0.0, 0.0, 0.0, 0.0, 0.0], 'elephant': [0.0, 0.0, 0.0, 0.0, 0.0, 0.0, 0.0, 0.0, 0.0, 0.0, 0.0], 'bear': [0.0, 0.0, 0.0, 0.0, 0.0, 0.0, 0.0, 0.0, 0.0, 0.0, 0.0], 'zebra': [0.0, 0.0, 0.0, 0.0, 0.0, 0.0, 0.0, 0.0, 0.0, 0.0, 0.0], 'giraffe': [0.0, 0.0, 0.0, 0.0, 0.0, 0.0, 0.0, 0.0, 0.0, 0.0, 0.0], 'hat': [0.0, 0.0, 0.0, 0.0, 0.0, 0.0, 0.0, 0.0, 0.0, 0.0, 0.0], 'backpack': [0.0, 0.0, 0.0, 0.0, 0.0, 0.0, 0.0, 0.0, 0.0, 0.0, 0.0], 'umbrella': [0.0, 0.0, 0.0, 0.0, 0.0, 0.0, 0.0, 0.0, 0.0, 0.0, 0.0], 'shoe': [0.0, 0.0, 0.0, 0.0, 0.0, 0.0, 0.0, 0.0, 0.0, 0.0, 0.0], 'eye glasses': [0.0, 0.0, 0.0, 0.0, 0.0, 0.0, 0.0, 0.0, 0.0, 0.0, 0.0], 'handbag': [0.0, 0.623, 0.0, 0.0, 0.013, 0.0, 0.013, 0.0, 0.0, 0.338, 0.013], 'tie': [0.0, 0.0, 0.0, 0.0, 0.0, 0.0, 0.0, 0.0, 0.0, 0.0, 0.0], 'suitcase': [0.0, 0.0, 0.0, 0.0, 0.0, 0.0, 0.0, 0.0, 0.0, 0.0, 0.0], 'frisbee': [0.016, 0.113, 0.113, 0.016, 0.371, 0.129, 0.081, 0.323, 0.0, 0.065, 0.065], 'skis': [0.0, 0.0366, 0.573, 0.0, 0.17, 0.097, 0.012, 0.0, 0.0, 0.11, 0.0], 'snowboard': [0.0, 0.0, 0.0, 0.0, 0.0, 0.0, 0.0, 0.0, 0.0, 0.0, 0.0], 'sports ball': [0.0, 0.0, 0.0, 0.0, 0.0, 0.0, 0.0, 0.0, 0.0, 0.0, 0.0], 'kite': [0.0, 0.0, 0.0, 0.0, 0.0, 0.0, 0.0, 0.0, 0.0, 0.0, 0.0], 'baseball bat': [0.0, 0.0, 0.0, 0.0, 0.0, 0.0, 0.0, 0.0, 0.0, 0.0, 0.0], 'baseball glove': [0.0, 0.0, 0.0, 0.0, 0.0, 0.0, 0.0, 0.0, 0.0, 0.0, 0.0], 'skateboard': [0.0, 0.0, 0.0, 0.0, 0.0, 0.0, 0.0, 0.0, 0.0, 0.0, 0.0], 'surfboard': [0.0, 0.0, 0.0, 0.0, 0.0, 0.0, 0.0, 0.0, 0.0, 0.0, 0.0], 'tennis racket': [0.0, 0.0, 0.0, 0.0, 0.0, 0.0, 0.0, 0.0, 0.0, 0.0, 0.0], 'bottle': [0.006, 0.088, 0.005, 0.268, 0.005, 0.082, 0.005, 0.251, 0.131, 0.147, 0.011], 'plate': [0.016, 0.113, 0.113, 0.016, 0.371, 0.129, 0.081, 0.323, 0.0, 0.065, 0.065], 'wine glass': [0.0, 0.046, 0.0, 0.38, 0.0185, 0.176, 0.028, 0.287, 0.0, 0.065, 0.0], 'cup': [0.0, 0.046, 0.0, 0.38, 0.0185, 0.176, 0.028, 0.287, 0.0, 0.065, 0.0], 'fork': [0.0, 0.057, 0.0, 0.03, 0.276, 0.5, 0.034, 0.034, 0.0115, 0.092, 0.0], 'knife': [0.0, 0.0366, 0.573, 0.0, 0.171, 0.098, 0.012, 0.0, 0.0, 0.11, 0.0], 'spoon': [0.0, 0.057, 0.0, 0.03, 0.276, 0.5, 0.034, 0.034, 0.0115, 0.092, 0.0], 'bowl': [0.0, 0.061, 0.034, 0.07, 0.209, 0.33, 0.035, 0.191, 0.0, 0.035, 0.035], 'banana': [0.0, 0.0366, 0.195, 0.0, 0.622, 0.012, 0.012, 0.0, 0.012, 0.11, 0.0], 'apple': [0.0, 0.0366, 0.195, 0.0, 0.622, 0.012, 0.012, 0.0, 0.012, 0.11, 0.0], 'sandwich': [0.0, 0.0366, 0.195, 0.0, 0.622, 0.012, 0.012, 0.0, 0.012, 0.11, 0.0], 'orange': [0.0, 0.0366, 0.195, 0.0, 0.622, 0.012, 0.012, 0.0, 0.012, 0.11, 0.0], 'broccoli': [0.0, 0.0366, 0.195, 0.0, 0.622, 0.012, 0.012, 0.0, 0.012, 0.11, 0.0], 'carrot': [0.0, 0.523, 0.034, 0.0, 0.011, 0.0, 0.011, 0.0, 0.0, 0.42, 0.0], 'hot dog': [0.0, 0.0366, 0.195, 0.0, 0.622, 0.012, 0.012, 0.0, 0.012, 0.11, 0.0], 'pizza': [0.0, 0.0366, 0.195, 0.0, 0.622, 0.012, 0.012, 0.0, 0.012, 0.11, 0.0], 'donut': [0.0, 0.0366, 0.195, 0.0, 0.622, 0.012, 0.012, 0.0, 0.012, 0.11, 0.0], 'cake': [0.0, 0.0366, 0.195, 0.0, 0.622, 0.012, 0.012, 0.0, 0.012, 0.11, 0.0], 'chair': [0.0, 0.0, 0.0, 0.0, 0.0, 0.0, 0.0, 0.0, 0.0, 0.0, 0.0], 'couch': [0.0, 0.0, 0.0, 0.0, 0.0, 0.0, 0.0, 0.0, 0.0, 0.0, 0.0], 'potted plant': [0.0, 0.0, 0.0, 0.0, 0.0, 0.0, 0.0, 0.0, 0.0, 0.0, 0.0], 'bed': [0.0, 0.0, 0.0, 0.0, 0.0, 0.0, 0.0, 0.0, 0.0, 0.0, 0.0], 'mirror': [0.0, 0.0, 0.0, 0.0, 0.0, 0.0, 0.0, 0.0, 0.0, 0.0, 0.0], 'dining table': [0.0, 0.0, 0.0, 0.0, 0.0, 0.0, 0.0, 0.0, 0.0, 0.0, 0.0], 'window': [0.0, 0.0, 0.0, 0.0, 0.0, 0.0, 0.0, 0.0, 0.0, 0.0, 0.0], 'desk': [0.0, 0.0, 0.0, 0.0, 0.0, 0.0, 0.0, 0.0, 0.0, 0.0, 0.0], 'toilet': [0.0, 0.0, 0.0, 0.0, 0.0, 0.0, 0.0, 0.0, 0.0, 0.0, 0.0], 'door': [0.0, 0.0, 0.0, 0.0, 0.0, 0.0, 0.0, 0.0, 0.0, 0.0, 0.0], 'tv': [0.0, 0.0, 0.0, 0.0, 0.0, 0.0, 0.0, 0.0, 0.0, 0.0, 0.0], 'laptop': [0.0, 0.0, 0.087, 0.109, 0.0, 0.0, 0.0217, 0.0, 0.467, 0.054, 0.0358], 'mouse': [0.008, 0.048, 0.0, 0.17, 0.0, 0.226, 0.032, 0.379, 0.089, 0.048, 0.0], 'remote': [0.0, 0.0, 0.0, 0.0, 0.0, 0.0, 0.0, 0.0, 0.0, 0.0, 0.0], 'keyboard': [0.0, 0.0, 0.0, 0.0, 0.0, 0.0, 0.0, 0.0, 0.0, 0.0, 0.0], 'cell phone': [0.0, 0.0, 0.0, 0.0, 0.0, 0.0, 0.0, 0.0, 0.0, 0.0, 0.0], 'microwave': [0.0, 0.0, 0.0, 0.0, 0.0, 0.0, 0.0, 0.0, 0.0, 0.0, 0.0], 'oven': [0.0, 0.0, 0.0, 0.0, 0.0, 0.0, 0.0, 0.0, 0.0, 0.0, 0.0], 'toaster': [0.0, 0.0, 0.0, 0.0, 0.0, 0.0, 0.0, 0.0, 0.0, 0.0, 0.0], 'sink': [0.0, 0.0, 0.0, 0.0, 0.0, 0.0, 0.0, 0.0, 0.0, 0.0, 0.0], 'refrigerator': [0.0, 0.0, 0.0, 0.0, 0.0, 0.0, 0.0, 0.0, 0.0, 0.0, 0.0], 'blender': [0.0, 0.0, 0.0, 0.0, 0.0, 0.0, 0.0, 0.0, 0.0, 0.0, 0.0], 'book': [0.0, 0.0, 0.087, 0.109, 0.0, 0.0, 0.0217, 0.0, 0.467, 0.054, 0.0358], 'clock': [0.0, 0.0, 0.0, 0.0, 0.0, 0.0, 0.0, 0.0, 0.0, 0.0, 0.0], 'vase': [0.008, 0.048, 0.0, 0.17, 0.0, 0.226, 0.032, 0.379, 0.089, 0.048, 0.0], 'scissors': [0.0, 0.0, 0.729, 0.0, 0.0, 0.034, 0.017, 0.0, 0.0, 0.22, 0.0], 'teddy bear': [0.0, 0.0, 0.0, 0.0, 0.0, 0.0, 0.0, 0.0, 0.0, 0.0, 0.0], 'hair drier': [0.0, 0.0, 0.0, 0.0, 0.0, 0.0, 0.0, 0.0, 0.0, 0.0, 0.0], 'toothbrush': [0.56, 0.214, 0.0, 0.0, 0.0, 0.119, 0.012, 0.0, 0.012, 0.083, 0.0], 'hair brush': [0.806, 0.016, 0.0, 0.0, 0.0, 0.0, 0.0161, 0.0, 0.0, 0.161, 0.0]}\n",
            "Model Summary: 225 layers, 6.29987e+07 parameters, 6.29987e+07 gradients\n",
            "image 1/2 data/samples/bus.jpg: THIS IS LABEL:  person 0.92\n",
            "THIS IS LABEL:  person 0.86\n",
            "THIS IS LABEL:  person 0.80\n",
            "THIS IS LABEL:  bus 0.65\n",
            "THIS IS LABEL:  tie 0.32\n",
            "THIS IS SUMMATION:  [[0.0, 0.0, 0.0, 0.0, 0.0, 0.0, 0.0, 0.0, 0.0, 0.0, 0.0], [0.0, 0.0, 0.0, 0.0, 0.0, 0.0, 0.0, 0.0, 0.0, 0.0, 0.0], [0.0, 0.0, 0.0, 0.0, 0.0, 0.0, 0.0, 0.0, 0.0, 0.0, 0.0], [0.0, 0.0, 0.0, 0.0, 0.0, 0.0, 0.0, 0.0, 0.0, 0.0, 0.0], [0.0, 0.0, 0.0, 0.0, 0.0, 0.0, 0.0, 0.0, 0.0, 0.0, 0.0]]\n",
            "THIS IS SUM NP [          0           0           0           0           0           0           0           0           0           0           0]\n",
            "THIS IS NONE\n",
            "512x384 3 persons, 1 buss, 1 ties, Done. (0.019s)\n",
            "detect.py:177: RuntimeWarning: invalid value encountered in double_scalars\n",
            "  image = cv2.putText(im0, mapped_dict['object'][max_np] + str(sum_np[max_np] / total_sum_float), org, font,\n",
            "image 2/2 data/samples/zidane.jpg: THIS IS LABEL:  person 0.88\n",
            "THIS IS LABEL:  person 0.85\n",
            "THIS IS LABEL:  tie 0.61\n",
            "THIS IS SUMMATION:  [[0.0, 0.0, 0.0, 0.0, 0.0, 0.0, 0.0, 0.0, 0.0, 0.0, 0.0], [0.0, 0.0, 0.0, 0.0, 0.0, 0.0, 0.0, 0.0, 0.0, 0.0, 0.0], [0.0, 0.0, 0.0, 0.0, 0.0, 0.0, 0.0, 0.0, 0.0, 0.0, 0.0]]\n",
            "THIS IS SUM NP [          0           0           0           0           0           0           0           0           0           0           0]\n",
            "THIS IS NONE\n",
            "320x512 2 persons, 1 ties, Done. (0.017s)\n",
            "Results saved to /content/yolov3/output\n",
            "Done. (0.138s)\n"
          ],
          "name": "stdout"
        }
      ]
    },
    {
      "cell_type": "code",
      "metadata": {
        "id": "6O0jsfp7Cl1h",
        "colab_type": "code",
        "colab": {}
      },
      "source": [
        "%cp detect.py /content/drive/My\\ Drive"
      ],
      "execution_count": 0,
      "outputs": []
    },
    {
      "cell_type": "code",
      "metadata": {
        "id": "Vi03ag1ebkhn",
        "colab_type": "code",
        "colab": {}
      },
      "source": [
        ""
      ],
      "execution_count": 0,
      "outputs": []
    }
  ]
}